{
  "nbformat": 4,
  "nbformat_minor": 0,
  "metadata": {
    "colab": {
      "provenance": [],
      "authorship_tag": "ABX9TyMLJno1usLlNq/gPHkuJdoN",
      "include_colab_link": true
    },
    "kernelspec": {
      "name": "python3",
      "display_name": "Python 3"
    },
    "language_info": {
      "name": "python"
    }
  },
  "cells": [
    {
      "cell_type": "markdown",
      "metadata": {
        "id": "view-in-github",
        "colab_type": "text"
      },
      "source": [
        "<a href=\"https://colab.research.google.com/github/Monica-Lu/AI_ML_Research/blob/main/Tensorflow_Basics.ipynb\" target=\"_parent\"><img src=\"https://colab.research.google.com/assets/colab-badge.svg\" alt=\"Open In Colab\"/></a>"
      ]
    },
    {
      "cell_type": "markdown",
      "source": [
        "#Credit to Youtube Channel Daniel Bourke, rewrote some parts by myself"
      ],
      "metadata": {
        "id": "2CvtzOJ_7zlb"
      }
    },
    {
      "cell_type": "markdown",
      "source": [
        "# Intro to tensors"
      ],
      "metadata": {
        "id": "AAZ5f2fpxSOK"
      }
    },
    {
      "cell_type": "code",
      "source": [
        "import tensorflow as tf\n",
        "print(tf.__version__)"
      ],
      "metadata": {
        "colab": {
          "base_uri": "https://localhost:8080/"
        },
        "id": "ymg9UFQuxbjQ",
        "outputId": "58c29d65-9ca2-4ea6-f50d-d26106df1e04"
      },
      "execution_count": null,
      "outputs": [
        {
          "output_type": "stream",
          "name": "stdout",
          "text": [
            "2.18.0\n"
          ]
        }
      ]
    },
    {
      "cell_type": "code",
      "source": [
        "scalar = tf.constant(7)\n",
        "scalar"
      ],
      "metadata": {
        "colab": {
          "base_uri": "https://localhost:8080/"
        },
        "id": "yGFhLGsHyEhg",
        "outputId": "918ab35b-f4a1-4915-c6ea-c2d90eb02b7c"
      },
      "execution_count": null,
      "outputs": [
        {
          "output_type": "execute_result",
          "data": {
            "text/plain": [
              "<tf.Tensor: shape=(), dtype=int32, numpy=7>"
            ]
          },
          "metadata": {},
          "execution_count": 40
        }
      ]
    },
    {
      "cell_type": "code",
      "source": [
        "#Check number of dimensions\n",
        "scalar.ndim"
      ],
      "metadata": {
        "colab": {
          "base_uri": "https://localhost:8080/"
        },
        "id": "Dr-JNyljyM1e",
        "outputId": "e2b4fa55-60d0-4aa2-96ff-6934f08720d4"
      },
      "execution_count": null,
      "outputs": [
        {
          "output_type": "execute_result",
          "data": {
            "text/plain": [
              "0"
            ]
          },
          "metadata": {},
          "execution_count": 41
        }
      ]
    },
    {
      "cell_type": "code",
      "source": [
        "#Create a vector\n",
        "vector = tf.constant([10,10])\n",
        "vector"
      ],
      "metadata": {
        "colab": {
          "base_uri": "https://localhost:8080/"
        },
        "id": "ghAea0Moysy8",
        "outputId": "9ccc168d-1e18-40a1-cf6d-4989626faa6f"
      },
      "execution_count": null,
      "outputs": [
        {
          "output_type": "execute_result",
          "data": {
            "text/plain": [
              "<tf.Tensor: shape=(2,), dtype=int32, numpy=array([10, 10], dtype=int32)>"
            ]
          },
          "metadata": {},
          "execution_count": 42
        }
      ]
    },
    {
      "cell_type": "code",
      "source": [
        "#Check number of dimensions\n",
        "vector.ndim"
      ],
      "metadata": {
        "colab": {
          "base_uri": "https://localhost:8080/"
        },
        "id": "RKMxKegWzL_N",
        "outputId": "57ffee7c-6ef1-45e1-e9f8-c69b7e04884e"
      },
      "execution_count": null,
      "outputs": [
        {
          "output_type": "execute_result",
          "data": {
            "text/plain": [
              "1"
            ]
          },
          "metadata": {},
          "execution_count": 43
        }
      ]
    },
    {
      "cell_type": "code",
      "source": [
        "matrix = tf.constant([[10,7],\n",
        "                      [7,10]])\n",
        "matrix"
      ],
      "metadata": {
        "colab": {
          "base_uri": "https://localhost:8080/"
        },
        "id": "gfJI8Zb6zY8g",
        "outputId": "248f4f85-8a54-4c73-d381-fee479875e07"
      },
      "execution_count": null,
      "outputs": [
        {
          "output_type": "execute_result",
          "data": {
            "text/plain": [
              "<tf.Tensor: shape=(2, 2), dtype=int32, numpy=\n",
              "array([[10,  7],\n",
              "       [ 7, 10]], dtype=int32)>"
            ]
          },
          "metadata": {},
          "execution_count": 44
        }
      ]
    },
    {
      "cell_type": "code",
      "source": [
        "matrix.ndim"
      ],
      "metadata": {
        "colab": {
          "base_uri": "https://localhost:8080/"
        },
        "id": "eelT5e4Azucz",
        "outputId": "071efb82-adf0-460d-e61c-3fe66f5a95fe"
      },
      "execution_count": null,
      "outputs": [
        {
          "output_type": "execute_result",
          "data": {
            "text/plain": [
              "2"
            ]
          },
          "metadata": {},
          "execution_count": 45
        }
      ]
    },
    {
      "cell_type": "code",
      "source": [
        "#Create another matrix\n",
        "another_matrix = tf.constant([[10. , 7.],\n",
        "                              [3. , 2.],\n",
        "                              [8., 9.]], dtype = tf.float16)\n",
        "another_matrix"
      ],
      "metadata": {
        "colab": {
          "base_uri": "https://localhost:8080/"
        },
        "id": "nHyAmBqmzxSt",
        "outputId": "8f520d8e-ab4f-4d8e-fb3b-207b403f5299"
      },
      "execution_count": null,
      "outputs": [
        {
          "output_type": "execute_result",
          "data": {
            "text/plain": [
              "<tf.Tensor: shape=(3, 2), dtype=float16, numpy=\n",
              "array([[10.,  7.],\n",
              "       [ 3.,  2.],\n",
              "       [ 8.,  9.]], dtype=float16)>"
            ]
          },
          "metadata": {},
          "execution_count": 46
        }
      ]
    },
    {
      "cell_type": "code",
      "source": [
        "another_matrix.ndim"
      ],
      "metadata": {
        "colab": {
          "base_uri": "https://localhost:8080/"
        },
        "id": "zZUqLTvt0aUP",
        "outputId": "6dbe9e53-7d1c-4c4e-80e6-61482fd4ff34"
      },
      "execution_count": null,
      "outputs": [
        {
          "output_type": "execute_result",
          "data": {
            "text/plain": [
              "2"
            ]
          },
          "metadata": {},
          "execution_count": 47
        }
      ]
    },
    {
      "cell_type": "code",
      "source": [
        "#Create Tensor\n",
        "tensor = tf.constant([[[1,2,3],[4,5,6]],\n",
        "                      [[7,8,9], [10,11,12]],\n",
        "                       [[13,14,15],[16,17,18]]])\n",
        "tensor"
      ],
      "metadata": {
        "colab": {
          "base_uri": "https://localhost:8080/"
        },
        "id": "onIgvmEg0qLU",
        "outputId": "748cc99c-5954-4cdb-a7b2-009112849550"
      },
      "execution_count": null,
      "outputs": [
        {
          "output_type": "execute_result",
          "data": {
            "text/plain": [
              "<tf.Tensor: shape=(3, 2, 3), dtype=int32, numpy=\n",
              "array([[[ 1,  2,  3],\n",
              "        [ 4,  5,  6]],\n",
              "\n",
              "       [[ 7,  8,  9],\n",
              "        [10, 11, 12]],\n",
              "\n",
              "       [[13, 14, 15],\n",
              "        [16, 17, 18]]], dtype=int32)>"
            ]
          },
          "metadata": {},
          "execution_count": 48
        }
      ]
    },
    {
      "cell_type": "code",
      "source": [
        "tensor.ndim"
      ],
      "metadata": {
        "colab": {
          "base_uri": "https://localhost:8080/"
        },
        "id": "H-y7l7rr0sEd",
        "outputId": "48ac1f3f-80f3-4e73-c804-aacb3269dc10"
      },
      "execution_count": null,
      "outputs": [
        {
          "output_type": "execute_result",
          "data": {
            "text/plain": [
              "3"
            ]
          },
          "metadata": {},
          "execution_count": 49
        }
      ]
    },
    {
      "cell_type": "code",
      "source": [
        "#Create the same tensor with tf.Variable() as above\n",
        "changeable_tensor = tf.Variable([10,7])\n",
        "unchangeable_tensor = tf.constant([10,7])\n",
        "changeable_tensor, unchangeable_tensor"
      ],
      "metadata": {
        "colab": {
          "base_uri": "https://localhost:8080/"
        },
        "id": "Bh6U9el21NVW",
        "outputId": "422e98a9-85b4-4854-e9c8-5b74a3246edd"
      },
      "execution_count": null,
      "outputs": [
        {
          "output_type": "execute_result",
          "data": {
            "text/plain": [
              "(<tf.Variable 'Variable:0' shape=(2,) dtype=int32, numpy=array([10,  7], dtype=int32)>,\n",
              " <tf.Tensor: shape=(2,), dtype=int32, numpy=array([10,  7], dtype=int32)>)"
            ]
          },
          "metadata": {},
          "execution_count": 50
        }
      ]
    },
    {
      "cell_type": "code",
      "source": [
        "#Invalid Syntax(Check Tensorflow framework at tensorflow.org)\n",
        "#changeable_tensor[0] = 7\n",
        "#changeable_tensor"
      ],
      "metadata": {
        "id": "NfY0AMMp2GYj"
      },
      "execution_count": null,
      "outputs": []
    },
    {
      "cell_type": "code",
      "source": [
        "changeable_tensor[0].assign(7)\n",
        "changeable_tensor"
      ],
      "metadata": {
        "colab": {
          "base_uri": "https://localhost:8080/"
        },
        "id": "vXUKz3ch2X7a",
        "outputId": "891ce464-f1cc-4cba-ea49-5f30d42ca0a7"
      },
      "execution_count": null,
      "outputs": [
        {
          "output_type": "execute_result",
          "data": {
            "text/plain": [
              "<tf.Variable 'Variable:0' shape=(2,) dtype=int32, numpy=array([7, 7], dtype=int32)>"
            ]
          },
          "metadata": {},
          "execution_count": 52
        }
      ]
    },
    {
      "cell_type": "code",
      "source": [
        "#Invalid Syntax(Check Tensorflow framework at tensorflow.org)\n",
        "#unchangeable_tensor[0].assign(7)\n",
        "#unchangeable_tensor"
      ],
      "metadata": {
        "id": "-rtlghxI4dal"
      },
      "execution_count": null,
      "outputs": []
    },
    {
      "cell_type": "markdown",
      "source": [
        "If in doubt use `tf.constant` and change later if needed"
      ],
      "metadata": {
        "id": "9pa8I0Ce5L1G"
      }
    },
    {
      "cell_type": "markdown",
      "source": [
        "# Create Random Tensors"
      ],
      "metadata": {
        "id": "7WpcZo6147Zj"
      }
    },
    {
      "cell_type": "markdown",
      "source": [
        "Random tensors are tensors of some arbitrary size which contain random number"
      ],
      "metadata": {
        "id": "0C-6Agym5_gg"
      }
    },
    {
      "cell_type": "code",
      "source": [
        "#Create two random tensors\n",
        "random_1 = tf.random.Generator.from_seed(7) # set seed for reproducibility\n",
        "random_1 = random_1.normal(shape=(3,2))\n",
        "random_2 = tf.random.Generator.from_seed(42)\n",
        "random_2 = random_2.normal(shape=(3,2))\n",
        "\n",
        "#Are they equal\n",
        "random_1, random_2, random_1 == random_2\n"
      ],
      "metadata": {
        "colab": {
          "base_uri": "https://localhost:8080/"
        },
        "id": "Ehkq6IvN5DhF",
        "outputId": "6f888224-5fef-46ce-abb9-6793398ba863"
      },
      "execution_count": null,
      "outputs": [
        {
          "output_type": "execute_result",
          "data": {
            "text/plain": [
              "(<tf.Tensor: shape=(3, 2), dtype=float32, numpy=\n",
              " array([[-1.3240396 ,  0.28785667],\n",
              "        [-0.8757901 , -0.08857018],\n",
              "        [ 0.69211644,  0.84215707]], dtype=float32)>,\n",
              " <tf.Tensor: shape=(3, 2), dtype=float32, numpy=\n",
              " array([[-0.7565803 , -0.06854702],\n",
              "        [ 0.07595026, -1.2573844 ],\n",
              "        [-0.23193763, -1.8107855 ]], dtype=float32)>,\n",
              " <tf.Tensor: shape=(3, 2), dtype=bool, numpy=\n",
              " array([[False, False],\n",
              "        [False, False],\n",
              "        [False, False]])>)"
            ]
          },
          "metadata": {},
          "execution_count": 54
        }
      ]
    },
    {
      "cell_type": "code",
      "source": [
        "#Shuffle tensor\n",
        "tf.random.set_seed(42) #global seed\n",
        "not_shuffled = tf.constant([[10,7],\n",
        "                            [8,9],\n",
        "                            [2,3]], )\n",
        "tf.random.shuffle(not_shuffled, seed = 32) #operational seed"
      ],
      "metadata": {
        "colab": {
          "base_uri": "https://localhost:8080/"
        },
        "id": "oM65_2iL6vZh",
        "outputId": "400708b4-9078-4fe0-b333-e99a019ee7d6"
      },
      "execution_count": null,
      "outputs": [
        {
          "output_type": "execute_result",
          "data": {
            "text/plain": [
              "<tf.Tensor: shape=(3, 2), dtype=int32, numpy=\n",
              "array([[ 2,  3],\n",
              "       [10,  7],\n",
              "       [ 8,  9]], dtype=int32)>"
            ]
          },
          "metadata": {},
          "execution_count": 55
        }
      ]
    },
    {
      "cell_type": "markdown",
      "source": [
        "Not global and Not operation -> random seed\n",
        "\n",
        "global and not operation -> unique random sequence\n",
        "\n",
        "operation and not global -> default global and specified operation determines random seq\n",
        "\n",
        "global and operation -> both determines random seq"
      ],
      "metadata": {
        "id": "7is8hOHX98sR"
      }
    },
    {
      "cell_type": "code",
      "source": [
        "tf.random.shuffle(not_shuffled, seed=32)"
      ],
      "metadata": {
        "colab": {
          "base_uri": "https://localhost:8080/"
        },
        "id": "z7QNBviy7wWm",
        "outputId": "90eaed73-0744-4c13-8dcb-fc4be6eedd1a"
      },
      "execution_count": null,
      "outputs": [
        {
          "output_type": "execute_result",
          "data": {
            "text/plain": [
              "<tf.Tensor: shape=(3, 2), dtype=int32, numpy=\n",
              "array([[ 2,  3],\n",
              "       [ 8,  9],\n",
              "       [10,  7]], dtype=int32)>"
            ]
          },
          "metadata": {},
          "execution_count": 56
        }
      ]
    },
    {
      "cell_type": "code",
      "source": [
        "#Other way to make tensors\n",
        "\n",
        "#Create a tensor of all ones\n",
        "tf.ones([10,7])\n",
        "\n",
        "#Create a tensor of all zeros\n",
        "tf.zeros(shape=(3,4))"
      ],
      "metadata": {
        "colab": {
          "base_uri": "https://localhost:8080/"
        },
        "id": "XkVjgFsaAyOC",
        "outputId": "828e6dbf-0e2f-4842-a8e2-a2198ef65c96"
      },
      "execution_count": null,
      "outputs": [
        {
          "output_type": "execute_result",
          "data": {
            "text/plain": [
              "<tf.Tensor: shape=(3, 4), dtype=float32, numpy=\n",
              "array([[0., 0., 0., 0.],\n",
              "       [0., 0., 0., 0.],\n",
              "       [0., 0., 0., 0.]], dtype=float32)>"
            ]
          },
          "metadata": {},
          "execution_count": 57
        }
      ]
    },
    {
      "cell_type": "code",
      "source": [
        "import numpy as np\n",
        "numpy_1 = np.arange(1,25, dtype = np.int32)\n",
        "numpy_1"
      ],
      "metadata": {
        "colab": {
          "base_uri": "https://localhost:8080/"
        },
        "id": "QAn_gZSqBFAV",
        "outputId": "6c3c7db3-ff47-4b59-de67-9e38d8e95993"
      },
      "execution_count": null,
      "outputs": [
        {
          "output_type": "execute_result",
          "data": {
            "text/plain": [
              "array([ 1,  2,  3,  4,  5,  6,  7,  8,  9, 10, 11, 12, 13, 14, 15, 16, 17,\n",
              "       18, 19, 20, 21, 22, 23, 24], dtype=int32)"
            ]
          },
          "metadata": {},
          "execution_count": 58
        }
      ]
    },
    {
      "cell_type": "code",
      "source": [
        "A = tf.constant(numpy_1, shape=(2,3,4)) #shape has to match array length\n",
        "B = tf.constant(numpy_1)\n",
        "A, B"
      ],
      "metadata": {
        "colab": {
          "base_uri": "https://localhost:8080/"
        },
        "id": "xt-zo6vhBcEW",
        "outputId": "e7cec88c-6da2-4ed1-b2b8-c1ed31d240c4"
      },
      "execution_count": null,
      "outputs": [
        {
          "output_type": "execute_result",
          "data": {
            "text/plain": [
              "(<tf.Tensor: shape=(2, 3, 4), dtype=int32, numpy=\n",
              " array([[[ 1,  2,  3,  4],\n",
              "         [ 5,  6,  7,  8],\n",
              "         [ 9, 10, 11, 12]],\n",
              " \n",
              "        [[13, 14, 15, 16],\n",
              "         [17, 18, 19, 20],\n",
              "         [21, 22, 23, 24]]], dtype=int32)>,\n",
              " <tf.Tensor: shape=(24,), dtype=int32, numpy=\n",
              " array([ 1,  2,  3,  4,  5,  6,  7,  8,  9, 10, 11, 12, 13, 14, 15, 16, 17,\n",
              "        18, 19, 20, 21, 22, 23, 24], dtype=int32)>)"
            ]
          },
          "metadata": {},
          "execution_count": 59
        }
      ]
    },
    {
      "cell_type": "markdown",
      "source": [
        "#Getting info from tensors"
      ],
      "metadata": {
        "id": "BKAcDQASCNW4"
      }
    },
    {
      "cell_type": "markdown",
      "source": [
        "![Screenshot 2025-06-18 at 3.58.06 AM.png](data:image/png;base64,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)"
      ],
      "metadata": {
        "id": "DkQkE-_mC1H8"
      }
    },
    {
      "cell_type": "code",
      "source": [
        "rank_tensor = tf.ones(shape=[2,3,4,5])\n",
        "rank_tensor"
      ],
      "metadata": {
        "colab": {
          "base_uri": "https://localhost:8080/"
        },
        "id": "ZQlabwr0DIWi",
        "outputId": "18dc721e-eb06-4502-ac84-6ecc394a06ab"
      },
      "execution_count": null,
      "outputs": [
        {
          "output_type": "execute_result",
          "data": {
            "text/plain": [
              "<tf.Tensor: shape=(2, 3, 4, 5), dtype=float32, numpy=\n",
              "array([[[[1., 1., 1., 1., 1.],\n",
              "         [1., 1., 1., 1., 1.],\n",
              "         [1., 1., 1., 1., 1.],\n",
              "         [1., 1., 1., 1., 1.]],\n",
              "\n",
              "        [[1., 1., 1., 1., 1.],\n",
              "         [1., 1., 1., 1., 1.],\n",
              "         [1., 1., 1., 1., 1.],\n",
              "         [1., 1., 1., 1., 1.]],\n",
              "\n",
              "        [[1., 1., 1., 1., 1.],\n",
              "         [1., 1., 1., 1., 1.],\n",
              "         [1., 1., 1., 1., 1.],\n",
              "         [1., 1., 1., 1., 1.]]],\n",
              "\n",
              "\n",
              "       [[[1., 1., 1., 1., 1.],\n",
              "         [1., 1., 1., 1., 1.],\n",
              "         [1., 1., 1., 1., 1.],\n",
              "         [1., 1., 1., 1., 1.]],\n",
              "\n",
              "        [[1., 1., 1., 1., 1.],\n",
              "         [1., 1., 1., 1., 1.],\n",
              "         [1., 1., 1., 1., 1.],\n",
              "         [1., 1., 1., 1., 1.]],\n",
              "\n",
              "        [[1., 1., 1., 1., 1.],\n",
              "         [1., 1., 1., 1., 1.],\n",
              "         [1., 1., 1., 1., 1.],\n",
              "         [1., 1., 1., 1., 1.]]]], dtype=float32)>"
            ]
          },
          "metadata": {},
          "execution_count": 60
        }
      ]
    },
    {
      "cell_type": "code",
      "source": [
        "#indexing\n",
        "rank_tensor[0]"
      ],
      "metadata": {
        "colab": {
          "base_uri": "https://localhost:8080/"
        },
        "id": "usVVksDnFNf5",
        "outputId": "35cb7669-d27d-467e-c4fb-4086b0b777e5"
      },
      "execution_count": null,
      "outputs": [
        {
          "output_type": "execute_result",
          "data": {
            "text/plain": [
              "<tf.Tensor: shape=(3, 4, 5), dtype=float32, numpy=\n",
              "array([[[1., 1., 1., 1., 1.],\n",
              "        [1., 1., 1., 1., 1.],\n",
              "        [1., 1., 1., 1., 1.],\n",
              "        [1., 1., 1., 1., 1.]],\n",
              "\n",
              "       [[1., 1., 1., 1., 1.],\n",
              "        [1., 1., 1., 1., 1.],\n",
              "        [1., 1., 1., 1., 1.],\n",
              "        [1., 1., 1., 1., 1.]],\n",
              "\n",
              "       [[1., 1., 1., 1., 1.],\n",
              "        [1., 1., 1., 1., 1.],\n",
              "        [1., 1., 1., 1., 1.],\n",
              "        [1., 1., 1., 1., 1.]]], dtype=float32)>"
            ]
          },
          "metadata": {},
          "execution_count": 61
        }
      ]
    },
    {
      "cell_type": "code",
      "source": [
        "rank_tensor.shape, rank_tensor.ndim, tf.size(rank_tensor)"
      ],
      "metadata": {
        "colab": {
          "base_uri": "https://localhost:8080/"
        },
        "id": "HhsXVvbhFaom",
        "outputId": "6079c1fc-9512-468f-c9f5-6b40875b4973"
      },
      "execution_count": null,
      "outputs": [
        {
          "output_type": "execute_result",
          "data": {
            "text/plain": [
              "(TensorShape([2, 3, 4, 5]), 4, <tf.Tensor: shape=(), dtype=int32, numpy=120>)"
            ]
          },
          "metadata": {},
          "execution_count": 62
        }
      ]
    },
    {
      "cell_type": "code",
      "source": [
        "#Get various attributes of our tensors\n",
        "print(\"Datatype of every element:\", rank_tensor.dtype)\n",
        "print(\"Number of dimensions (rank):\", rank_tensor.ndim)\n",
        "print(\"Shape of tensor:\", rank_tensor.shape)\n",
        "print(\"Elements along axis 0 of tensor:\", rank_tensor.shape[0])\n",
        "print(\"Elements along last axis of tensor:\", rank_tensor.shape[-1])\n",
        "print(\"Total number of elements:\", tf.size(rank_tensor))\n",
        "print(\"Total number of elements:\", tf.size(rank_tensor).numpy())"
      ],
      "metadata": {
        "colab": {
          "base_uri": "https://localhost:8080/"
        },
        "id": "FML8PIrBFljc",
        "outputId": "474865cd-27ed-44d2-b367-b524a22cf95b"
      },
      "execution_count": null,
      "outputs": [
        {
          "output_type": "stream",
          "name": "stdout",
          "text": [
            "Datatype of every element: <dtype: 'float32'>\n",
            "Number of dimensions (rank): 4\n",
            "Shape of tensor: (2, 3, 4, 5)\n",
            "Elements along axis 0 of tensor: 2\n",
            "Elements along last axis of tensor: 5\n",
            "Total number of elements: tf.Tensor(120, shape=(), dtype=int32)\n",
            "Total number of elements: 120\n"
          ]
        }
      ]
    },
    {
      "cell_type": "markdown",
      "source": [
        "#Index Tensors"
      ],
      "metadata": {
        "id": "ki_0kjXtGiAq"
      }
    },
    {
      "cell_type": "code",
      "source": [
        "rank_tensor[:2, :1, :2, :1]"
      ],
      "metadata": {
        "colab": {
          "base_uri": "https://localhost:8080/"
        },
        "id": "Q4WU0z40Gntf",
        "outputId": "541ed97a-49a1-48a6-e79e-ee299e6ee065"
      },
      "execution_count": null,
      "outputs": [
        {
          "output_type": "execute_result",
          "data": {
            "text/plain": [
              "<tf.Tensor: shape=(2, 1, 2, 1), dtype=float32, numpy=\n",
              "array([[[[1.],\n",
              "         [1.]]],\n",
              "\n",
              "\n",
              "       [[[1.],\n",
              "         [1.]]]], dtype=float32)>"
            ]
          },
          "metadata": {},
          "execution_count": 64
        }
      ]
    },
    {
      "cell_type": "code",
      "source": [
        "#Get the first element from each dim from each index except for the final one\n",
        "rank_tensor[:1, :1, :1, :]"
      ],
      "metadata": {
        "colab": {
          "base_uri": "https://localhost:8080/"
        },
        "id": "-TjFfxY9G1bf",
        "outputId": "54a770f9-9dba-4210-edc6-b607e16fb911"
      },
      "execution_count": null,
      "outputs": [
        {
          "output_type": "execute_result",
          "data": {
            "text/plain": [
              "<tf.Tensor: shape=(1, 1, 1, 5), dtype=float32, numpy=array([[[[1., 1., 1., 1., 1.]]]], dtype=float32)>"
            ]
          },
          "metadata": {},
          "execution_count": 65
        }
      ]
    },
    {
      "cell_type": "code",
      "source": [
        "rank_2_tensor = tf.constant([[10,7],\n",
        "                            [1,2]])\n",
        "rank_2_tensor.shape, rank_2_tensor.ndim"
      ],
      "metadata": {
        "colab": {
          "base_uri": "https://localhost:8080/"
        },
        "id": "k9ZOAwmTHMbW",
        "outputId": "ee7e3058-5d0c-4ec3-bb6e-86793cea6d7c"
      },
      "execution_count": null,
      "outputs": [
        {
          "output_type": "execute_result",
          "data": {
            "text/plain": [
              "(TensorShape([2, 2]), 2)"
            ]
          },
          "metadata": {},
          "execution_count": 66
        }
      ]
    },
    {
      "cell_type": "code",
      "source": [
        "rank_2_tensor"
      ],
      "metadata": {
        "colab": {
          "base_uri": "https://localhost:8080/"
        },
        "id": "G7uT48ckH23u",
        "outputId": "2db807e1-2337-4adf-aba9-79453ec67368"
      },
      "execution_count": null,
      "outputs": [
        {
          "output_type": "execute_result",
          "data": {
            "text/plain": [
              "<tf.Tensor: shape=(2, 2), dtype=int32, numpy=\n",
              "array([[10,  7],\n",
              "       [ 1,  2]], dtype=int32)>"
            ]
          },
          "metadata": {},
          "execution_count": 67
        }
      ]
    },
    {
      "cell_type": "code",
      "source": [
        "# Get the last item of each of row of our tensor\n",
        "rank_2_tensor[:, -1]"
      ],
      "metadata": {
        "colab": {
          "base_uri": "https://localhost:8080/"
        },
        "id": "h3ylEmYIIDw1",
        "outputId": "a8f58463-e135-47ef-dec2-f727daedba2b"
      },
      "execution_count": null,
      "outputs": [
        {
          "output_type": "execute_result",
          "data": {
            "text/plain": [
              "<tf.Tensor: shape=(2,), dtype=int32, numpy=array([7, 2], dtype=int32)>"
            ]
          },
          "metadata": {},
          "execution_count": 68
        }
      ]
    },
    {
      "cell_type": "code",
      "source": [
        "#Add in extra dimension to our tensor\n",
        "rank_3_tensor = rank_2_tensor[..., tf.newaxis] #same as [: , :] in this case\n",
        "rank_3_tensor"
      ],
      "metadata": {
        "colab": {
          "base_uri": "https://localhost:8080/"
        },
        "id": "AWzbo4Y8JHR2",
        "outputId": "073c0e6b-bec1-4b53-aa0e-9b1e0929485e"
      },
      "execution_count": null,
      "outputs": [
        {
          "output_type": "execute_result",
          "data": {
            "text/plain": [
              "<tf.Tensor: shape=(2, 2, 1), dtype=int32, numpy=\n",
              "array([[[10],\n",
              "        [ 7]],\n",
              "\n",
              "       [[ 1],\n",
              "        [ 2]]], dtype=int32)>"
            ]
          },
          "metadata": {},
          "execution_count": 69
        }
      ]
    },
    {
      "cell_type": "code",
      "source": [
        "#Alternative to tf.newaxis\n",
        "tf.expand_dims(rank_2_tensor, axis=-1) #-1 means expand the final axis"
      ],
      "metadata": {
        "colab": {
          "base_uri": "https://localhost:8080/"
        },
        "id": "H4hRyLxaJqdt",
        "outputId": "e5977898-75f6-4748-963c-74ee7d3c242b"
      },
      "execution_count": null,
      "outputs": [
        {
          "output_type": "execute_result",
          "data": {
            "text/plain": [
              "<tf.Tensor: shape=(2, 2, 1), dtype=int32, numpy=\n",
              "array([[[10],\n",
              "        [ 7]],\n",
              "\n",
              "       [[ 1],\n",
              "        [ 2]]], dtype=int32)>"
            ]
          },
          "metadata": {},
          "execution_count": 70
        }
      ]
    },
    {
      "cell_type": "code",
      "source": [
        "tf.expand_dims(rank_2_tensor,axis=0) #expand the 0-axis"
      ],
      "metadata": {
        "colab": {
          "base_uri": "https://localhost:8080/"
        },
        "id": "WCRngBGOJ9A_",
        "outputId": "25486657-e30c-4387-af4e-6b74dee69502"
      },
      "execution_count": null,
      "outputs": [
        {
          "output_type": "execute_result",
          "data": {
            "text/plain": [
              "<tf.Tensor: shape=(1, 2, 2), dtype=int32, numpy=\n",
              "array([[[10,  7],\n",
              "        [ 1,  2]]], dtype=int32)>"
            ]
          },
          "metadata": {},
          "execution_count": 71
        }
      ]
    },
    {
      "cell_type": "code",
      "source": [
        "rank_2_tensor"
      ],
      "metadata": {
        "colab": {
          "base_uri": "https://localhost:8080/"
        },
        "id": "vHpqXTptKON2",
        "outputId": "cddb351a-89f1-43a0-88c0-564d5f25c3c8"
      },
      "execution_count": null,
      "outputs": [
        {
          "output_type": "execute_result",
          "data": {
            "text/plain": [
              "<tf.Tensor: shape=(2, 2), dtype=int32, numpy=\n",
              "array([[10,  7],\n",
              "       [ 1,  2]], dtype=int32)>"
            ]
          },
          "metadata": {},
          "execution_count": 72
        }
      ]
    },
    {
      "cell_type": "markdown",
      "source": [
        "#Manipulating tensors"
      ],
      "metadata": {
        "id": "Y2MWR1NgJ3gT"
      }
    },
    {
      "cell_type": "code",
      "source": [
        "tensor = tf.constant([[10, 7], [2,3]])\n",
        "tensor + 10"
      ],
      "metadata": {
        "colab": {
          "base_uri": "https://localhost:8080/"
        },
        "id": "ue-S_fzvKU4k",
        "outputId": "7514d732-54df-4c86-b69a-a459201a3cab"
      },
      "execution_count": null,
      "outputs": [
        {
          "output_type": "execute_result",
          "data": {
            "text/plain": [
              "<tf.Tensor: shape=(2, 2), dtype=int32, numpy=\n",
              "array([[20, 17],\n",
              "       [12, 13]], dtype=int32)>"
            ]
          },
          "metadata": {},
          "execution_count": 73
        }
      ]
    },
    {
      "cell_type": "code",
      "source": [
        "tensor = tensor + 10\n",
        "tensor"
      ],
      "metadata": {
        "colab": {
          "base_uri": "https://localhost:8080/"
        },
        "id": "Wo2xfTtOKpCb",
        "outputId": "738e6d6b-2892-4a4e-89ae-32b4c3ef9991"
      },
      "execution_count": null,
      "outputs": [
        {
          "output_type": "execute_result",
          "data": {
            "text/plain": [
              "<tf.Tensor: shape=(2, 2), dtype=int32, numpy=\n",
              "array([[20, 17],\n",
              "       [12, 13]], dtype=int32)>"
            ]
          },
          "metadata": {},
          "execution_count": 74
        }
      ]
    },
    {
      "cell_type": "markdown",
      "source": [
        "#Matrix Multiplication"
      ],
      "metadata": {
        "id": "ZoXDooNXLUHV"
      }
    },
    {
      "cell_type": "code",
      "source": [
        "print(tensor)\n",
        "tf.matmul(tensor, tensor) #not the same as tensor * tensor(which squares the org matrix)\n",
        "tensor @ tensor #same as matmul"
      ],
      "metadata": {
        "colab": {
          "base_uri": "https://localhost:8080/"
        },
        "id": "cs5h4iYpLX4K",
        "outputId": "327a0ad0-a88b-4a82-edc6-674c18408f81"
      },
      "execution_count": null,
      "outputs": [
        {
          "output_type": "stream",
          "name": "stdout",
          "text": [
            "tf.Tensor(\n",
            "[[20 17]\n",
            " [12 13]], shape=(2, 2), dtype=int32)\n"
          ]
        },
        {
          "output_type": "execute_result",
          "data": {
            "text/plain": [
              "<tf.Tensor: shape=(2, 2), dtype=int32, numpy=\n",
              "array([[604, 561],\n",
              "       [396, 373]], dtype=int32)>"
            ]
          },
          "metadata": {},
          "execution_count": 75
        }
      ]
    },
    {
      "cell_type": "code",
      "source": [
        "#Change the shape of tensor\n",
        "tf.reshape(tensor, shape=(4,1))"
      ],
      "metadata": {
        "colab": {
          "base_uri": "https://localhost:8080/"
        },
        "id": "BeKW88UHMdvC",
        "outputId": "9ffd6885-7c55-423c-efbb-9a5fc1570fd7"
      },
      "execution_count": null,
      "outputs": [
        {
          "output_type": "execute_result",
          "data": {
            "text/plain": [
              "<tf.Tensor: shape=(4, 1), dtype=int32, numpy=\n",
              "array([[20],\n",
              "       [17],\n",
              "       [12],\n",
              "       [13]], dtype=int32)>"
            ]
          },
          "metadata": {},
          "execution_count": 76
        }
      ]
    },
    {
      "cell_type": "code",
      "source": [
        "#Match dimensions for matmul\n",
        "tf.reshape(tensor, shape= (1,4)) @ tf.reshape(tensor, shape=(4,1))"
      ],
      "metadata": {
        "colab": {
          "base_uri": "https://localhost:8080/"
        },
        "id": "nLcy3cc0NG-f",
        "outputId": "115bf4e9-d08b-4a6c-c3b4-d0ccd41363ad"
      },
      "execution_count": null,
      "outputs": [
        {
          "output_type": "execute_result",
          "data": {
            "text/plain": [
              "<tf.Tensor: shape=(1, 1), dtype=int32, numpy=array([[1002]], dtype=int32)>"
            ]
          },
          "metadata": {},
          "execution_count": 77
        }
      ]
    },
    {
      "cell_type": "code",
      "source": [
        "#transpose\n",
        "tf.transpose(tensor)"
      ],
      "metadata": {
        "colab": {
          "base_uri": "https://localhost:8080/"
        },
        "id": "MX8dnFemNhXx",
        "outputId": "b4332d2b-e712-40e3-d95d-ba70579f18b4"
      },
      "execution_count": null,
      "outputs": [
        {
          "output_type": "execute_result",
          "data": {
            "text/plain": [
              "<tf.Tensor: shape=(2, 2), dtype=int32, numpy=\n",
              "array([[20, 12],\n",
              "       [17, 13]], dtype=int32)>"
            ]
          },
          "metadata": {},
          "execution_count": 78
        }
      ]
    },
    {
      "cell_type": "code",
      "source": [
        "#dot product\n",
        "tf.matmul(tensor, tf.transpose(tensor))\n",
        "tf.tensordot(tf.transpose(tensor), tensor, axes = 1)\n",
        "tf.matmul(tensor, tf.reshape(not_shuffled,shape = (2,3)))\n",
        "tensor @ tf.transpose(tensor)"
      ],
      "metadata": {
        "id": "rDJ8HYBQOGPg",
        "colab": {
          "base_uri": "https://localhost:8080/"
        },
        "outputId": "bb8eb415-1f34-44d4-cdb4-00b0761530bf"
      },
      "execution_count": null,
      "outputs": [
        {
          "output_type": "execute_result",
          "data": {
            "text/plain": [
              "<tf.Tensor: shape=(2, 2), dtype=int32, numpy=\n",
              "array([[689, 461],\n",
              "       [461, 313]], dtype=int32)>"
            ]
          },
          "metadata": {},
          "execution_count": 88
        }
      ]
    },
    {
      "cell_type": "code",
      "source": [
        "print(\"Normal tensor\")\n",
        "print(tensor, \"\\n\")\n",
        "\n",
        "print(\"tensor reshaped to (2,3):\")\n",
        "print(tf.reshape(not_shuffled, shape=(2,3)))\n",
        "\n",
        "print(\"tensor transposed\")\n",
        "print(tf.transpose(tensor))"
      ],
      "metadata": {
        "colab": {
          "base_uri": "https://localhost:8080/"
        },
        "id": "6SFH1Y2fFwXU",
        "outputId": "a3abf4a3-54f2-4284-edc7-e9df0b5c537c"
      },
      "execution_count": null,
      "outputs": [
        {
          "output_type": "stream",
          "name": "stdout",
          "text": [
            "Normal tensor\n",
            "tf.Tensor(\n",
            "[[20 17]\n",
            " [12 13]], shape=(2, 2), dtype=int32) \n",
            "\n",
            "tensor reshaped to (2,3):\n",
            "tf.Tensor(\n",
            "[[10  7  8]\n",
            " [ 9  2  3]], shape=(2, 3), dtype=int32)\n",
            "tensor transposed\n",
            "tf.Tensor(\n",
            "[[20 12]\n",
            " [17 13]], shape=(2, 2), dtype=int32)\n"
          ]
        }
      ]
    },
    {
      "cell_type": "markdown",
      "source": [
        "#Change datatype of tensor"
      ],
      "metadata": {
        "id": "0qAfgwXiItXO"
      }
    },
    {
      "cell_type": "code",
      "source": [
        "#Create a new tensor w default datatype\n",
        "B = tf.constant([1.3, 5.6])\n",
        "B.dtype"
      ],
      "metadata": {
        "colab": {
          "base_uri": "https://localhost:8080/"
        },
        "id": "Zdn5sTrKIiE2",
        "outputId": "e012cfa6-b09e-4a5c-b041-926ab4540c68"
      },
      "execution_count": null,
      "outputs": [
        {
          "output_type": "execute_result",
          "data": {
            "text/plain": [
              "tf.float32"
            ]
          },
          "metadata": {},
          "execution_count": 89
        }
      ]
    },
    {
      "cell_type": "code",
      "source": [
        "C = tf.constant([1, 3])\n",
        "C.dtype"
      ],
      "metadata": {
        "colab": {
          "base_uri": "https://localhost:8080/"
        },
        "id": "An6tlOUJI7Zs",
        "outputId": "bd0e875c-e9e6-4d9e-e6b2-24437c9388aa"
      },
      "execution_count": null,
      "outputs": [
        {
          "output_type": "execute_result",
          "data": {
            "text/plain": [
              "tf.int32"
            ]
          },
          "metadata": {},
          "execution_count": 90
        }
      ]
    },
    {
      "cell_type": "code",
      "source": [
        "#Change from float32 to float16 (half-prec)\n",
        "D = tf.cast(B, dtype = tf.float16)\n",
        "D"
      ],
      "metadata": {
        "colab": {
          "base_uri": "https://localhost:8080/"
        },
        "id": "yUztOoVrJGiZ",
        "outputId": "ce6823de-aa7e-43a7-cb6a-c92e378274df"
      },
      "execution_count": null,
      "outputs": [
        {
          "output_type": "execute_result",
          "data": {
            "text/plain": [
              "<tf.Tensor: shape=(2,), dtype=float16, numpy=array([1.3, 5.6], dtype=float16)>"
            ]
          },
          "metadata": {},
          "execution_count": 92
        }
      ]
    },
    {
      "cell_type": "code",
      "source": [
        "#Change from int32 to float32\n",
        "E = tf.cast(C, dtype = tf.float32)\n",
        "E"
      ],
      "metadata": {
        "colab": {
          "base_uri": "https://localhost:8080/"
        },
        "id": "zA3m0fl2Jsbo",
        "outputId": "ca98aa13-67af-4a79-80e4-a4c7612ded72"
      },
      "execution_count": null,
      "outputs": [
        {
          "output_type": "execute_result",
          "data": {
            "text/plain": [
              "<tf.Tensor: shape=(2,), dtype=float32, numpy=array([1., 3.], dtype=float32)>"
            ]
          },
          "metadata": {},
          "execution_count": 93
        }
      ]
    },
    {
      "cell_type": "markdown",
      "source": [
        "#Aggregate tensors"
      ],
      "metadata": {
        "id": "iKI7xU7xKOuo"
      }
    },
    {
      "cell_type": "markdown",
      "source": [
        "Aggregate tensors = condensing them from multiple values down to a smaller amount of values"
      ],
      "metadata": {
        "id": "F5oT1E27KgrW"
      }
    },
    {
      "cell_type": "code",
      "source": [
        "D = tf.constant([-7,-10])\n",
        "D"
      ],
      "metadata": {
        "colab": {
          "base_uri": "https://localhost:8080/"
        },
        "id": "C7oFluEsKDF9",
        "outputId": "fe11a446-7be8-413b-f242-284d3c53da34"
      },
      "execution_count": null,
      "outputs": [
        {
          "output_type": "execute_result",
          "data": {
            "text/plain": [
              "<tf.Tensor: shape=(2,), dtype=int32, numpy=array([ -7, -10], dtype=int32)>"
            ]
          },
          "metadata": {},
          "execution_count": 94
        }
      ]
    },
    {
      "cell_type": "code",
      "source": [
        "# Get the abs value\n",
        "tf.abs(D)"
      ],
      "metadata": {
        "colab": {
          "base_uri": "https://localhost:8080/"
        },
        "id": "sBr7lhsdKumt",
        "outputId": "5ab387d0-523e-4f23-f537-4da4afd9d029"
      },
      "execution_count": null,
      "outputs": [
        {
          "output_type": "execute_result",
          "data": {
            "text/plain": [
              "<tf.Tensor: shape=(2,), dtype=int32, numpy=array([ 7, 10], dtype=int32)>"
            ]
          },
          "metadata": {},
          "execution_count": 95
        }
      ]
    },
    {
      "cell_type": "code",
      "source": [
        "#Create a random tensor w values between 0 and 100 of size 50\n",
        "E = tf.constant(np.random.randint(0,100, size =50))\n",
        "E"
      ],
      "metadata": {
        "colab": {
          "base_uri": "https://localhost:8080/"
        },
        "id": "BCIvp9FhLIwF",
        "outputId": "9591d710-b7ae-457b-a515-03adb19cef9e"
      },
      "execution_count": null,
      "outputs": [
        {
          "output_type": "execute_result",
          "data": {
            "text/plain": [
              "<tf.Tensor: shape=(50,), dtype=int64, numpy=\n",
              "array([52, 83, 52, 56, 25, 35, 12, 27,  4, 57, 53, 18, 63, 51, 53,  4, 11,\n",
              "       62, 54, 25, 83, 41, 47, 36, 31, 56, 83, 35, 55, 13, 36, 99,  3, 83,\n",
              "       66, 30, 35, 87, 20, 91, 28, 19, 19, 58, 96, 66, 63, 62, 65, 89])>"
            ]
          },
          "metadata": {},
          "execution_count": 96
        }
      ]
    },
    {
      "cell_type": "code",
      "source": [
        "tf.size(E), E.shape, E.ndim"
      ],
      "metadata": {
        "colab": {
          "base_uri": "https://localhost:8080/"
        },
        "id": "0gv46Qc3LlUt",
        "outputId": "349083f8-09c1-4782-e6ca-2f348940189f"
      },
      "execution_count": null,
      "outputs": [
        {
          "output_type": "execute_result",
          "data": {
            "text/plain": [
              "(<tf.Tensor: shape=(), dtype=int32, numpy=50>, TensorShape([50]), 1)"
            ]
          },
          "metadata": {},
          "execution_count": 97
        }
      ]
    },
    {
      "cell_type": "code",
      "source": [
        "#Find min\n",
        "tf.reduce_min(E)"
      ],
      "metadata": {
        "colab": {
          "base_uri": "https://localhost:8080/"
        },
        "id": "67fJX-0ALvce",
        "outputId": "1eb120d3-0a1b-4903-96f5-ace6cbfdc64a"
      },
      "execution_count": null,
      "outputs": [
        {
          "output_type": "execute_result",
          "data": {
            "text/plain": [
              "<tf.Tensor: shape=(), dtype=int64, numpy=3>"
            ]
          },
          "metadata": {},
          "execution_count": 98
        }
      ]
    },
    {
      "cell_type": "code",
      "source": [
        "#Find max\n",
        "tf.reduce_max(E)"
      ],
      "metadata": {
        "colab": {
          "base_uri": "https://localhost:8080/"
        },
        "id": "etTP2bSIL4tP",
        "outputId": "1c66e445-8de9-406b-e660-15e61fcf64b7"
      },
      "execution_count": null,
      "outputs": [
        {
          "output_type": "execute_result",
          "data": {
            "text/plain": [
              "<tf.Tensor: shape=(), dtype=int64, numpy=99>"
            ]
          },
          "metadata": {},
          "execution_count": 99
        }
      ]
    },
    {
      "cell_type": "code",
      "source": [
        "#Find mean\n",
        "tf.reduce_mean(E)"
      ],
      "metadata": {
        "colab": {
          "base_uri": "https://localhost:8080/"
        },
        "id": "A31D2QguL9xg",
        "outputId": "1e7629dd-494a-4176-a309-4ef75fd67e26"
      },
      "execution_count": null,
      "outputs": [
        {
          "output_type": "execute_result",
          "data": {
            "text/plain": [
              "<tf.Tensor: shape=(), dtype=int64, numpy=47>"
            ]
          },
          "metadata": {},
          "execution_count": 100
        }
      ]
    },
    {
      "cell_type": "code",
      "source": [
        "#Find sum\n",
        "tf.reduce_sum(E)"
      ],
      "metadata": {
        "id": "dBsKe6beMG10"
      },
      "execution_count": null,
      "outputs": []
    },
    {
      "cell_type": "code",
      "source": [
        "#Find variance\n",
        "import tensorflow_probability as tfp\n",
        "tfp.stats.variance(E)"
      ],
      "metadata": {
        "colab": {
          "base_uri": "https://localhost:8080/"
        },
        "id": "s4J6iqa5MiWz",
        "outputId": "7c147dc1-62c5-44ff-f743-46d477dd5a36"
      },
      "execution_count": null,
      "outputs": [
        {
          "output_type": "execute_result",
          "data": {
            "text/plain": [
              "<tf.Tensor: shape=(), dtype=int64, numpy=673>"
            ]
          },
          "metadata": {},
          "execution_count": 101
        }
      ]
    },
    {
      "cell_type": "code",
      "source": [
        "#Find std dev\n",
        "tf.math.reduce_std(tf.cast(E, dtype = tf.float32))"
      ],
      "metadata": {
        "colab": {
          "base_uri": "https://localhost:8080/"
        },
        "id": "7g0nuxNcMJ5Y",
        "outputId": "3809398b-2b64-4539-b124-5f2503632585"
      },
      "execution_count": null,
      "outputs": [
        {
          "output_type": "execute_result",
          "data": {
            "text/plain": [
              "<tf.Tensor: shape=(), dtype=float32, numpy=25.934040069580078>"
            ]
          },
          "metadata": {},
          "execution_count": 104
        }
      ]
    },
    {
      "cell_type": "code",
      "source": [
        "#Create a new random tensor\n",
        "tf.random.set_seed(42)\n",
        "F = tf.random.uniform(shape = [50])\n",
        "F"
      ],
      "metadata": {
        "colab": {
          "base_uri": "https://localhost:8080/"
        },
        "id": "oSV9uu4nNOVa",
        "outputId": "b3d9010c-52d3-4c0e-8341-fedb51602fed"
      },
      "execution_count": null,
      "outputs": [
        {
          "output_type": "execute_result",
          "data": {
            "text/plain": [
              "<tf.Tensor: shape=(50,), dtype=float32, numpy=\n",
              "array([0.6645621 , 0.44100678, 0.3528825 , 0.46448255, 0.03366041,\n",
              "       0.68467236, 0.74011743, 0.8724445 , 0.22632635, 0.22319686,\n",
              "       0.3103881 , 0.7223358 , 0.13318717, 0.5480639 , 0.5746088 ,\n",
              "       0.8996835 , 0.00946367, 0.5212307 , 0.6345445 , 0.1993283 ,\n",
              "       0.72942245, 0.54583454, 0.10756552, 0.6767061 , 0.6602763 ,\n",
              "       0.33695042, 0.60141766, 0.21062577, 0.8527372 , 0.44062173,\n",
              "       0.9485276 , 0.23752594, 0.81179297, 0.5263394 , 0.494308  ,\n",
              "       0.21612847, 0.8457197 , 0.8718841 , 0.3083862 , 0.6868038 ,\n",
              "       0.23764038, 0.7817228 , 0.9671384 , 0.06870162, 0.79873943,\n",
              "       0.66028714, 0.5871513 , 0.16461694, 0.7381023 , 0.32054043],\n",
              "      dtype=float32)>"
            ]
          },
          "metadata": {},
          "execution_count": 105
        }
      ]
    },
    {
      "cell_type": "code",
      "source": [
        "#Find positional max and min\n",
        "tf.argmax(F)"
      ],
      "metadata": {
        "colab": {
          "base_uri": "https://localhost:8080/"
        },
        "id": "hP3XytA_OabN",
        "outputId": "470a0b5a-06f4-4a18-b4a8-a7372920f472"
      },
      "execution_count": null,
      "outputs": [
        {
          "output_type": "execute_result",
          "data": {
            "text/plain": [
              "<tf.Tensor: shape=(), dtype=int64, numpy=42>"
            ]
          },
          "metadata": {},
          "execution_count": 106
        }
      ]
    },
    {
      "cell_type": "code",
      "source": [
        "#index of our largest value position\n",
        "F[tf.argmax(F)]"
      ],
      "metadata": {
        "colab": {
          "base_uri": "https://localhost:8080/"
        },
        "id": "yEm34TETOgjn",
        "outputId": "dd1e3dca-e724-4db9-d081-de0ea76491d2"
      },
      "execution_count": null,
      "outputs": [
        {
          "output_type": "execute_result",
          "data": {
            "text/plain": [
              "<tf.Tensor: shape=(), dtype=float32, numpy=0.967138409614563>"
            ]
          },
          "metadata": {},
          "execution_count": 107
        }
      ]
    },
    {
      "cell_type": "code",
      "source": [
        "#Find the max value of F\n",
        "tf.reduce_max(F)"
      ],
      "metadata": {
        "id": "WxIz8yIUQtU-"
      },
      "execution_count": null,
      "outputs": []
    },
    {
      "cell_type": "code",
      "source": [
        "#Check for equality\n",
        "assert F[tf.argmax(F)] == tf.reduce_max(F)\n",
        "F[tf.argmax(F)] == tf.reduce_max(F)"
      ],
      "metadata": {
        "colab": {
          "base_uri": "https://localhost:8080/"
        },
        "id": "elYPGlMTQ0YU",
        "outputId": "a1c1c5da-83e0-4e8c-8f6c-9a33a7025ab6"
      },
      "execution_count": null,
      "outputs": [
        {
          "output_type": "execute_result",
          "data": {
            "text/plain": [
              "<tf.Tensor: shape=(), dtype=bool, numpy=True>"
            ]
          },
          "metadata": {},
          "execution_count": 109
        }
      ]
    },
    {
      "cell_type": "code",
      "source": [
        "tf.argmin(F)"
      ],
      "metadata": {
        "colab": {
          "base_uri": "https://localhost:8080/"
        },
        "id": "ByaPTl8TRCY4",
        "outputId": "ffcd7b0c-1767-4c36-abf0-54f3e4819e73"
      },
      "execution_count": null,
      "outputs": [
        {
          "output_type": "execute_result",
          "data": {
            "text/plain": [
              "<tf.Tensor: shape=(), dtype=int64, numpy=16>"
            ]
          },
          "metadata": {},
          "execution_count": 110
        }
      ]
    },
    {
      "cell_type": "code",
      "source": [
        "F[tf.argmin(F)]"
      ],
      "metadata": {
        "colab": {
          "base_uri": "https://localhost:8080/"
        },
        "id": "hzEU8268RIWJ",
        "outputId": "70ec478a-0f7e-4ead-c1be-3b973664c1d3"
      },
      "execution_count": null,
      "outputs": [
        {
          "output_type": "execute_result",
          "data": {
            "text/plain": [
              "<tf.Tensor: shape=(), dtype=float32, numpy=0.009463667869567871>"
            ]
          },
          "metadata": {},
          "execution_count": 111
        }
      ]
    },
    {
      "cell_type": "code",
      "source": [
        "tf.reduce_min(F)"
      ],
      "metadata": {
        "colab": {
          "base_uri": "https://localhost:8080/"
        },
        "id": "WZK0pM8eRLqa",
        "outputId": "07f05134-3a63-4fa6-d129-c3fe4baa6da0"
      },
      "execution_count": null,
      "outputs": [
        {
          "output_type": "execute_result",
          "data": {
            "text/plain": [
              "<tf.Tensor: shape=(), dtype=float32, numpy=0.009463667869567871>"
            ]
          },
          "metadata": {},
          "execution_count": 112
        }
      ]
    },
    {
      "cell_type": "code",
      "source": [
        "assert F[tf.argmin(F)] == tf.reduce_min(F)\n",
        "F[tf.argmin(F)] == tf.reduce_min(F)"
      ],
      "metadata": {
        "colab": {
          "base_uri": "https://localhost:8080/"
        },
        "id": "DtlrE20TRR2x",
        "outputId": "e5014785-2d66-4374-8132-2face2ef4c13"
      },
      "execution_count": null,
      "outputs": [
        {
          "output_type": "execute_result",
          "data": {
            "text/plain": [
              "<tf.Tensor: shape=(), dtype=bool, numpy=True>"
            ]
          },
          "metadata": {},
          "execution_count": 113
        }
      ]
    },
    {
      "cell_type": "markdown",
      "source": [
        "Squeezing a tensor(remove all single dim)"
      ],
      "metadata": {
        "id": "mQZKcBy4Nd5Q"
      }
    },
    {
      "cell_type": "code",
      "source": [
        "G = tf.constant(tf.random.uniform(shape = [50]), shape = (1,1,1,1,50))\n",
        "G"
      ],
      "metadata": {
        "colab": {
          "base_uri": "https://localhost:8080/"
        },
        "id": "ZNtdDpl2RfN-",
        "outputId": "a610423e-cc55-4683-8c5b-a42cf7d8631b"
      },
      "execution_count": null,
      "outputs": [
        {
          "output_type": "execute_result",
          "data": {
            "text/plain": [
              "<tf.Tensor: shape=(1, 1, 1, 1, 50), dtype=float32, numpy=\n",
              "array([[[[[0.7402308 , 0.33938193, 0.5692506 , 0.44811392, 0.29285502,\n",
              "           0.4260056 , 0.62890387, 0.691061  , 0.30925727, 0.89236605,\n",
              "           0.66396606, 0.30541587, 0.8724164 , 0.1025728 , 0.56819403,\n",
              "           0.25427842, 0.7253866 , 0.4770788 , 0.46289814, 0.88944995,\n",
              "           0.6792555 , 0.09752727, 0.01609659, 0.4876021 , 0.5832968 ,\n",
              "           0.41212583, 0.731905  , 0.93418944, 0.5298122 , 0.9664817 ,\n",
              "           0.88391197, 0.10578597, 0.44439578, 0.7851516 , 0.47332513,\n",
              "           0.89893615, 0.04290593, 0.8717004 , 0.6068529 , 0.12963045,\n",
              "           0.4527359 , 0.24573493, 0.34777248, 0.582147  , 0.82298195,\n",
              "           0.82862926, 0.877372  , 0.5319803 , 0.03594303, 0.03986669]]]]],\n",
              "      dtype=float32)>"
            ]
          },
          "metadata": {},
          "execution_count": 117
        }
      ]
    },
    {
      "cell_type": "code",
      "source": [
        "G.shape"
      ],
      "metadata": {
        "colab": {
          "base_uri": "https://localhost:8080/"
        },
        "id": "HICeOa7LR-3M",
        "outputId": "0e4054af-6453-430d-ea72-3cbf0e67ee5d"
      },
      "execution_count": null,
      "outputs": [
        {
          "output_type": "execute_result",
          "data": {
            "text/plain": [
              "TensorShape([1, 1, 1, 1, 50])"
            ]
          },
          "metadata": {},
          "execution_count": 118
        }
      ]
    },
    {
      "cell_type": "code",
      "source": [
        "G_squeezed = tf.squeeze(G)\n",
        "G_squeezed, G_squeezed.shape"
      ],
      "metadata": {
        "colab": {
          "base_uri": "https://localhost:8080/"
        },
        "id": "epYDx4_ZSDs0",
        "outputId": "8fff7c01-12b0-4a05-834d-ba2974cebf67"
      },
      "execution_count": null,
      "outputs": [
        {
          "output_type": "execute_result",
          "data": {
            "text/plain": [
              "(<tf.Tensor: shape=(50,), dtype=float32, numpy=\n",
              " array([0.7402308 , 0.33938193, 0.5692506 , 0.44811392, 0.29285502,\n",
              "        0.4260056 , 0.62890387, 0.691061  , 0.30925727, 0.89236605,\n",
              "        0.66396606, 0.30541587, 0.8724164 , 0.1025728 , 0.56819403,\n",
              "        0.25427842, 0.7253866 , 0.4770788 , 0.46289814, 0.88944995,\n",
              "        0.6792555 , 0.09752727, 0.01609659, 0.4876021 , 0.5832968 ,\n",
              "        0.41212583, 0.731905  , 0.93418944, 0.5298122 , 0.9664817 ,\n",
              "        0.88391197, 0.10578597, 0.44439578, 0.7851516 , 0.47332513,\n",
              "        0.89893615, 0.04290593, 0.8717004 , 0.6068529 , 0.12963045,\n",
              "        0.4527359 , 0.24573493, 0.34777248, 0.582147  , 0.82298195,\n",
              "        0.82862926, 0.877372  , 0.5319803 , 0.03594303, 0.03986669],\n",
              "       dtype=float32)>,\n",
              " TensorShape([50]))"
            ]
          },
          "metadata": {},
          "execution_count": 119
        }
      ]
    },
    {
      "cell_type": "markdown",
      "source": [
        "##One-hot encoding tensors"
      ],
      "metadata": {
        "id": "H1i9-AnqShGb"
      }
    },
    {
      "cell_type": "code",
      "source": [
        "# Create a list of indices\n",
        "some_list = [0,1,2,3]\n",
        "\n",
        "#One hot encode our list of indices\n",
        "tf.one_hot(some_list, depth = 4)"
      ],
      "metadata": {
        "colab": {
          "base_uri": "https://localhost:8080/"
        },
        "id": "FiisVg97SPrO",
        "outputId": "e9d8204a-1e67-4b31-fa61-568a4c60ad17"
      },
      "execution_count": null,
      "outputs": [
        {
          "output_type": "execute_result",
          "data": {
            "text/plain": [
              "<tf.Tensor: shape=(4, 4), dtype=float32, numpy=\n",
              "array([[1., 0., 0., 0.],\n",
              "       [0., 1., 0., 0.],\n",
              "       [0., 0., 1., 0.],\n",
              "       [0., 0., 0., 1.]], dtype=float32)>"
            ]
          },
          "metadata": {},
          "execution_count": 120
        }
      ]
    },
    {
      "cell_type": "code",
      "source": [
        "#Specify custom values for one hot encoding\n",
        "tf.one_hot(some_list, depth = 4, on_value=\"lol\", off_value=\"haha\")"
      ],
      "metadata": {
        "colab": {
          "base_uri": "https://localhost:8080/"
        },
        "id": "iiyAsRLqSg3d",
        "outputId": "31fa5bbe-2a32-44df-ec9f-f0aab3dc467c"
      },
      "execution_count": null,
      "outputs": [
        {
          "output_type": "execute_result",
          "data": {
            "text/plain": [
              "<tf.Tensor: shape=(4, 4), dtype=string, numpy=\n",
              "array([[b'lol', b'haha', b'haha', b'haha'],\n",
              "       [b'haha', b'lol', b'haha', b'haha'],\n",
              "       [b'haha', b'haha', b'lol', b'haha'],\n",
              "       [b'haha', b'haha', b'haha', b'lol']], dtype=object)>"
            ]
          },
          "metadata": {},
          "execution_count": 121
        }
      ]
    },
    {
      "cell_type": "code",
      "source": [
        "# Square, log, sqrt\n",
        "H = tf.range(1, 16)\n",
        "H"
      ],
      "metadata": {
        "colab": {
          "base_uri": "https://localhost:8080/"
        },
        "id": "8lCrKQoeTfNM",
        "outputId": "7257e08f-175f-4c87-90a9-a88df4e0246a"
      },
      "execution_count": null,
      "outputs": [
        {
          "output_type": "execute_result",
          "data": {
            "text/plain": [
              "<tf.Tensor: shape=(15,), dtype=int32, numpy=\n",
              "array([ 1,  2,  3,  4,  5,  6,  7,  8,  9, 10, 11, 12, 13, 14, 15],\n",
              "      dtype=int32)>"
            ]
          },
          "metadata": {},
          "execution_count": 122
        }
      ]
    },
    {
      "cell_type": "code",
      "source": [
        "tf.square(H)"
      ],
      "metadata": {
        "colab": {
          "base_uri": "https://localhost:8080/"
        },
        "id": "3HjyUX1-Tt9c",
        "outputId": "b11089f0-a1eb-4fc6-fdca-04256431ab2f"
      },
      "execution_count": null,
      "outputs": [
        {
          "output_type": "execute_result",
          "data": {
            "text/plain": [
              "<tf.Tensor: shape=(15,), dtype=int32, numpy=\n",
              "array([  1,   4,   9,  16,  25,  36,  49,  64,  81, 100, 121, 144, 169,\n",
              "       196, 225], dtype=int32)>"
            ]
          },
          "metadata": {},
          "execution_count": 124
        }
      ]
    },
    {
      "cell_type": "code",
      "source": [
        "tf.sqrt(tf.cast(H, dtype = tf.float32))"
      ],
      "metadata": {
        "colab": {
          "base_uri": "https://localhost:8080/"
        },
        "id": "omGEUBNZTvk6",
        "outputId": "06a943a1-2be5-4f82-8bfd-d22fc42f0a07"
      },
      "execution_count": null,
      "outputs": [
        {
          "output_type": "execute_result",
          "data": {
            "text/plain": [
              "<tf.Tensor: shape=(15,), dtype=float32, numpy=\n",
              "array([1.       , 1.4142135, 1.7320508, 2.       , 2.236068 , 2.4494898,\n",
              "       2.6457512, 2.828427 , 3.       , 3.1622777, 3.3166249, 3.4641016,\n",
              "       3.6055512, 3.7416575, 3.8729835], dtype=float32)>"
            ]
          },
          "metadata": {},
          "execution_count": 126
        }
      ]
    },
    {
      "cell_type": "code",
      "source": [
        "tf.math.log(tf.cast(H, dtype = tf.float32))"
      ],
      "metadata": {
        "colab": {
          "base_uri": "https://localhost:8080/"
        },
        "id": "YzzkWySrT5tz",
        "outputId": "0f0afde0-e1e3-4b73-aceb-246c467e6a2a"
      },
      "execution_count": null,
      "outputs": [
        {
          "output_type": "execute_result",
          "data": {
            "text/plain": [
              "<tf.Tensor: shape=(15,), dtype=float32, numpy=\n",
              "array([0.       , 0.6931472, 1.0986123, 1.3862944, 1.609438 , 1.7917595,\n",
              "       1.9459102, 2.0794415, 2.1972246, 2.3025851, 2.3978953, 2.4849067,\n",
              "       2.5649493, 2.6390574, 2.7080503], dtype=float32)>"
            ]
          },
          "metadata": {},
          "execution_count": 128
        }
      ]
    },
    {
      "cell_type": "code",
      "source": [
        "#Tensor and Numpy\n",
        "\n",
        "#Create a tensor directly from a numpy array\n",
        "J = tf.constant(np.array([3., 7., 10.]))\n",
        "J"
      ],
      "metadata": {
        "colab": {
          "base_uri": "https://localhost:8080/"
        },
        "id": "8jAeqj7JUGQ5",
        "outputId": "95d6f03c-de6a-44ab-a558-29e36e7fbd1d"
      },
      "execution_count": null,
      "outputs": [
        {
          "output_type": "execute_result",
          "data": {
            "text/plain": [
              "<tf.Tensor: shape=(3,), dtype=float64, numpy=array([ 3.,  7., 10.])>"
            ]
          },
          "metadata": {},
          "execution_count": 129
        }
      ]
    },
    {
      "cell_type": "code",
      "source": [
        "#Convert our tensor back to numpy array\n",
        "np.array(J), type(np.array(J))"
      ],
      "metadata": {
        "colab": {
          "base_uri": "https://localhost:8080/"
        },
        "id": "rlqOl3-zUwOo",
        "outputId": "dbab5a0a-1ec5-4502-c784-21c71643de98"
      },
      "execution_count": null,
      "outputs": [
        {
          "output_type": "execute_result",
          "data": {
            "text/plain": [
              "(array([ 3.,  7., 10.]), numpy.ndarray)"
            ]
          },
          "metadata": {},
          "execution_count": 130
        }
      ]
    },
    {
      "cell_type": "code",
      "source": [
        "#Convert tensor J to numpy array\n",
        "J.numpy(), type(J.numpy())"
      ],
      "metadata": {
        "colab": {
          "base_uri": "https://localhost:8080/"
        },
        "id": "f_zNUyKAVFIG",
        "outputId": "d4cf0d57-ac75-4d33-863b-92e9fc86852a"
      },
      "execution_count": null,
      "outputs": [
        {
          "output_type": "execute_result",
          "data": {
            "text/plain": [
              "(array([ 3.,  7., 10.]), numpy.ndarray)"
            ]
          },
          "metadata": {},
          "execution_count": 131
        }
      ]
    },
    {
      "cell_type": "code",
      "source": [
        "J = tf.constant([3.])\n",
        "J.numpy()[0]"
      ],
      "metadata": {
        "colab": {
          "base_uri": "https://localhost:8080/"
        },
        "id": "Ve6nnY3JVMNO",
        "outputId": "ad91920f-f767-47ac-f868-b67e7b4f5f07"
      },
      "execution_count": null,
      "outputs": [
        {
          "output_type": "execute_result",
          "data": {
            "text/plain": [
              "np.float32(3.0)"
            ]
          },
          "metadata": {},
          "execution_count": 132
        }
      ]
    },
    {
      "cell_type": "code",
      "source": [
        "#default types of each are slightly diff\n",
        "numpy_J = tf.constant(np.array([3. ,7., 10.]))\n",
        "tensor_J = tf.constant([3., 7., 10.])\n",
        "#check the datatype of each\n",
        "numpy_J.dtype, tensor_J.dtype"
      ],
      "metadata": {
        "colab": {
          "base_uri": "https://localhost:8080/"
        },
        "id": "4cxXbzx3VrML",
        "outputId": "5006e2e1-69f5-43c4-fd47-1d0f72c717e1"
      },
      "execution_count": null,
      "outputs": [
        {
          "output_type": "execute_result",
          "data": {
            "text/plain": [
              "(tf.float64, tf.float32)"
            ]
          },
          "metadata": {},
          "execution_count": 133
        }
      ]
    }
  ]
}